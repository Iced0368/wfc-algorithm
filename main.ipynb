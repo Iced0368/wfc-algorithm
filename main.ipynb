{
 "cells": [
  {
   "cell_type": "code",
   "execution_count": 1,
   "metadata": {},
   "outputs": [
    {
     "name": "stdout",
     "output_type": "stream",
     "text": [
      "model initialization finised\n",
      "0.016530513763427734\n",
      "96\n",
      "middle: 92\n",
      "0: 0\n",
      "1: 4\n",
      "2: 0\n",
      "3: 0\n"
     ]
    }
   ],
   "source": [
    "import matplotlib.pyplot as plt\n",
    "import random, time\n",
    "from PIL import Image\n",
    "from wfc import *\n",
    "from util import DIRECTIONS\n",
    "\n",
    "s = time.time()\n",
    "model = WFCModel('sample/Flowers.png', \n",
    "                 (3, 3), \n",
    "                 flip_horizontal=True, \n",
    "                 flip_vertical=False, \n",
    "                 rotate=False)\n",
    "print(time.time()-s)\n",
    "\n",
    "print(len(model.tileset))\n",
    "print('middle:', len(model.tileset_middle))\n",
    "for dir in DIRECTIONS:\n",
    "    print(f'{dir}:', len(model.tileset_edge[dir]))"
   ]
  },
  {
   "cell_type": "code",
   "execution_count": 7,
   "metadata": {},
   "outputs": [
    {
     "name": "stdout",
     "output_type": "stream",
     "text": [
      "0.5424330234527588\n"
     ]
    },
    {
     "data": {
      "image/png": "[encoded data removed]",
      "text/plain": [
       "<Figure size 640x480 with 1 Axes>"
      ]
     },
     "metadata": {},
     "output_type": "display_data"
    },
    {
     "name": "stdout",
     "output_type": "stream",
     "text": [
      "<PIL.Image.Image image mode=RGB size=32x32 at 0x1FEFEE64940>\n"
     ]
    }
   ],
   "source": [
    "show_process = 50\n",
    "show_prop = False\n",
    "seed = 72548558\n",
    "\n",
    "#random.seed(seed)\n",
    "\n",
    "s = time.time()\n",
    "result = model.generate((32, 32), show_process=show_process, show_prop=show_prop)\n",
    "print(time.time() - s)\n",
    "\n",
    "if result:\n",
    "    img = model.overwrite_tile()\n",
    "    if not show_process:\n",
    "        plt.imshow(img)\n",
    "        plt.axis('off')\n",
    "        plt.show()\n",
    "    print(img)\n",
    "\n",
    "else:\n",
    "    print(\"TT_TT\")\n"
   ]
  },
  {
   "cell_type": "code",
   "execution_count": null,
   "metadata": {},
   "outputs": [],
   "source": [
    "model.view_performance()\n",
    "model.view_log()"
   ]
  }
 ],
 "metadata": {
  "kernelspec": {
   "display_name": "Python 3",
   "language": "python",
   "name": "python3"
  },
  "language_info": {
   "codemirror_mode": {
    "name": "ipython",
    "version": 3
   },
   "file_extension": ".py",
   "mimetype": "text/x-python",
   "name": "python",
   "nbconvert_exporter": "python",
   "pygments_lexer": "ipython3",
   "version": "3.10.9"
  }
 },
 "nbformat": 4,
 "nbformat_minor": 2
}
