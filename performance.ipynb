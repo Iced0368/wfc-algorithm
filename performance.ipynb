{
 "cells": [
  {
   "cell_type": "code",
   "execution_count": 1,
   "metadata": {},
   "outputs": [
    {
     "name": "stdout",
     "output_type": "stream",
     "text": [
      "model initialization finised\n",
      "0.00814676284790039\n",
      "96\n",
      "middle: 92\n",
      "0: 0\n",
      "1: 4\n",
      "2: 0\n",
      "3: 0\n"
     ]
    }
   ],
   "source": [
    "import matplotlib.pyplot as plt\n",
    "import random, time\n",
    "from PIL import Image\n",
    "from wfc import *\n",
    "from util import DIRECTIONS\n",
    "\n",
    "s = time.time()\n",
    "model = WFCModel('sample/Flowers.png', \n",
    "                 (3, 3), \n",
    "                 flip_horizontal=True, \n",
    "                 flip_vertical=False, \n",
    "                 rotate=False)\n",
    "print(time.time()-s)\n",
    "\n",
    "print(len(model.tileset))\n",
    "print('middle:', len(model.tileset_middle))\n",
    "for dir in DIRECTIONS:\n",
    "    print(f'{dir}:', len(model.tileset_edge[dir]))"
   ]
  },
  {
   "cell_type": "code",
   "execution_count": 3,
   "metadata": {},
   "outputs": [
    {
     "name": "stdout",
     "output_type": "stream",
     "text": [
      "0 tests finished\n",
      "1 tests finished\n",
      "2 tests finished\n",
      "3 tests finished\n",
      "4 tests finished\n",
      "5 tests finished\n",
      "6 tests finished\n",
      "7 tests finished\n",
      "8 tests finished\n"
     ]
    },
    {
     "ename": "KeyboardInterrupt",
     "evalue": "",
     "output_type": "error",
     "traceback": [
      "\u001b[1;31m---------------------------------------------------------------------------\u001b[0m",
      "\u001b[1;31mKeyboardInterrupt\u001b[0m                         Traceback (most recent call last)",
      "\u001b[1;32mc:\\Users\\akmin\\OneDrive\\바탕 화면\\projects\\wfc-algorithm\\performance.ipynb Cell 2\u001b[0m line \u001b[0;36m1\n\u001b[0;32m     <a href='vscode-notebook-cell:/c%3A/Users/akmin/OneDrive/%EB%B0%94%ED%83%95%20%ED%99%94%EB%A9%B4/projects/wfc-algorithm/performance.ipynb#W1sZmlsZQ%3D%3D?line=11'>12</a>\u001b[0m \u001b[39mfor\u001b[39;00m _ \u001b[39min\u001b[39;00m \u001b[39mrange\u001b[39m(rep):\n\u001b[0;32m     <a href='vscode-notebook-cell:/c%3A/Users/akmin/OneDrive/%EB%B0%94%ED%83%95%20%ED%99%94%EB%A9%B4/projects/wfc-algorithm/performance.ipynb#W1sZmlsZQ%3D%3D?line=12'>13</a>\u001b[0m     s \u001b[39m=\u001b[39m time\u001b[39m.\u001b[39mtime()\n\u001b[1;32m---> <a href='vscode-notebook-cell:/c%3A/Users/akmin/OneDrive/%EB%B0%94%ED%83%95%20%ED%99%94%EB%A9%B4/projects/wfc-algorithm/performance.ipynb#W1sZmlsZQ%3D%3D?line=13'>14</a>\u001b[0m     result \u001b[39m=\u001b[39m model\u001b[39m.\u001b[39;49mgenerate((\u001b[39m32\u001b[39;49m, \u001b[39m32\u001b[39;49m), show_process\u001b[39m=\u001b[39;49mshow_process, show_prop\u001b[39m=\u001b[39;49mshow_prop)\n\u001b[0;32m     <a href='vscode-notebook-cell:/c%3A/Users/akmin/OneDrive/%EB%B0%94%ED%83%95%20%ED%99%94%EB%A9%B4/projects/wfc-algorithm/performance.ipynb#W1sZmlsZQ%3D%3D?line=14'>15</a>\u001b[0m     \u001b[39mif\u001b[39;00m result:\n\u001b[0;32m     <a href='vscode-notebook-cell:/c%3A/Users/akmin/OneDrive/%EB%B0%94%ED%83%95%20%ED%99%94%EB%A9%B4/projects/wfc-algorithm/performance.ipynb#W1sZmlsZQ%3D%3D?line=15'>16</a>\u001b[0m         time_sum \u001b[39m+\u001b[39m\u001b[39m=\u001b[39m time\u001b[39m.\u001b[39mtime() \u001b[39m-\u001b[39m s\n",
      "File \u001b[1;32mc:\\Users\\akmin\\OneDrive\\바탕 화면\\projects\\wfc-algorithm\\wfc.py:213\u001b[0m, in \u001b[0;36mWFCModel.generate\u001b[1;34m(self, size, show_process, show_prop)\u001b[0m\n\u001b[0;32m    211\u001b[0m step \u001b[39m+\u001b[39m\u001b[39m=\u001b[39m \u001b[39m1\u001b[39m\n\u001b[0;32m    212\u001b[0m s \u001b[39m=\u001b[39m time\u001b[39m.\u001b[39mtime()\n\u001b[1;32m--> 213\u001b[0m result \u001b[39m=\u001b[39m \u001b[39mself\u001b[39;49m\u001b[39m.\u001b[39;49mnext_step(show_prop)\n\u001b[0;32m    214\u001b[0m \u001b[39mself\u001b[39m\u001b[39m.\u001b[39mperformance[\u001b[39m'\u001b[39m\u001b[39mPropagate\u001b[39m\u001b[39m'\u001b[39m]\u001b[39m.\u001b[39mappend(time\u001b[39m.\u001b[39mtime()\u001b[39m-\u001b[39ms)\n\u001b[0;32m    216\u001b[0m \u001b[39mif\u001b[39;00m show_process \u001b[39mand\u001b[39;00m (step \u001b[39m%\u001b[39m show_process \u001b[39m==\u001b[39m \u001b[39m0\u001b[39m \u001b[39mor\u001b[39;00m result \u001b[39m==\u001b[39m \u001b[39m1\u001b[39m):\n",
      "File \u001b[1;32mc:\\Users\\akmin\\OneDrive\\바탕 화면\\projects\\wfc-algorithm\\wfc.py:196\u001b[0m, in \u001b[0;36mWFCModel.next_step\u001b[1;34m(self, show_prop)\u001b[0m\n\u001b[0;32m    193\u001b[0m \u001b[39mself\u001b[39m\u001b[39m.\u001b[39mcollapse(index[\u001b[39m0\u001b[39m], index[\u001b[39m1\u001b[39m], tile_index)\n\u001b[0;32m    195\u001b[0m \u001b[39mwhile\u001b[39;00m \u001b[39mlen\u001b[39m(\u001b[39mself\u001b[39m\u001b[39m.\u001b[39mprop_state) \u001b[39m>\u001b[39m \u001b[39m0\u001b[39m:\n\u001b[1;32m--> 196\u001b[0m     \u001b[39mself\u001b[39;49m\u001b[39m.\u001b[39;49mupdate_wave()\n\u001b[0;32m    198\u001b[0m     \u001b[39mif\u001b[39;00m show_prop:\n\u001b[0;32m    199\u001b[0m         clear_output(wait\u001b[39m=\u001b[39m\u001b[39mTrue\u001b[39;00m)\n",
      "File \u001b[1;32mc:\\Users\\akmin\\OneDrive\\바탕 화면\\projects\\wfc-algorithm\\wfc.py:177\u001b[0m, in \u001b[0;36mWFCModel.update_wave\u001b[1;34m(self)\u001b[0m\n\u001b[0;32m    175\u001b[0m r, c \u001b[39m=\u001b[39m \u001b[39mself\u001b[39m\u001b[39m.\u001b[39mdecode_index(index_hash)\n\u001b[0;32m    176\u001b[0m \u001b[39mif\u001b[39;00m \u001b[39mself\u001b[39m\u001b[39m.\u001b[39mis_valid_index(r, c):\n\u001b[1;32m--> 177\u001b[0m     \u001b[39mself\u001b[39;49m\u001b[39m.\u001b[39;49mupdate_superposition(r, c, updated_from)\n",
      "File \u001b[1;32mc:\\Users\\akmin\\OneDrive\\바탕 화면\\projects\\wfc-algorithm\\wfc.py:156\u001b[0m, in \u001b[0;36mWFCModel.update_superposition\u001b[1;34m(self, r, c, updated_from)\u001b[0m\n\u001b[0;32m    154\u001b[0m pos_pat \u001b[39m=\u001b[39m \u001b[39mset\u001b[39m()\n\u001b[0;32m    155\u001b[0m \u001b[39mfor\u001b[39;00m tile_hash \u001b[39min\u001b[39;00m \u001b[39mself\u001b[39m\u001b[39m.\u001b[39msuperposition[r, c]:\n\u001b[1;32m--> 156\u001b[0m     pos_pat \u001b[39m|\u001b[39m\u001b[39m=\u001b[39m \u001b[39mself\u001b[39m\u001b[39m.\u001b[39madjacency[tile_hash][\u001b[39mdir\u001b[39m]\n\u001b[0;32m    157\u001b[0m \u001b[39mif\u001b[39;00m \u001b[39mlen\u001b[39m(pos_pat) \u001b[39m<\u001b[39m \u001b[39mlen\u001b[39m(\u001b[39mself\u001b[39m\u001b[39m.\u001b[39mpossible_patterns[r, c][\u001b[39mdir\u001b[39m]):\n\u001b[0;32m    158\u001b[0m     changed \u001b[39m=\u001b[39m \u001b[39mTrue\u001b[39;00m\n",
      "\u001b[1;31mKeyboardInterrupt\u001b[0m: "
     ]
    }
   ],
   "source": [
    "show_process = False\n",
    "show_prop = False\n",
    "seed = 72548558\n",
    "\n",
    "#random.seed(seed)\n",
    "\n",
    "fail_cnt = 0\n",
    "suc_cnt = 0\n",
    "time_sum = 0\n",
    "rep = 100\n",
    "\n",
    "for _ in range(rep):\n",
    "    s = time.time()\n",
    "    result = model.generate((32, 32), show_process=show_process, show_prop=show_prop)\n",
    "    if result:\n",
    "        time_sum += time.time() - s\n",
    "        suc_cnt += 1\n",
    "    else:\n",
    "        fail_cnt += 1\n",
    "\n",
    "    if (_+1) % 10 == 0:\n",
    "        print(f\"{_} tests finished\") \n",
    "\n",
    "print(f\"successed: {suc_cnt}, failed: {fail_cnt}\")\n",
    "if suc_cnt > 0:\n",
    "    print(f\"average time: {time_sum / suc_cnt}\")\n"
   ]
  },
  {
   "cell_type": "code",
   "execution_count": null,
   "metadata": {},
   "outputs": [],
   "source": [
    "model.view_performance()\n",
    "model.view_log()"
   ]
  }
 ],
 "metadata": {
  "kernelspec": {
   "display_name": "Python 3",
   "language": "python",
   "name": "python3"
  },
  "language_info": {
   "codemirror_mode": {
    "name": "ipython",
    "version": 3
   },
   "file_extension": ".py",
   "mimetype": "text/x-python",
   "name": "python",
   "nbconvert_exporter": "python",
   "pygments_lexer": "ipython3",
   "version": "3.10.9"
  }
 },
 "nbformat": 4,
 "nbformat_minor": 2
}
